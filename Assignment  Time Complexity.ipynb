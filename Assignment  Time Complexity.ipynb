{
 "cells": [
  {
   "cell_type": "code",
   "execution_count": 1,
   "id": "034a0817",
   "metadata": {},
   "outputs": [],
   "source": [
    "# Problem 1 :\n",
    "# def quicksort(arr):\n",
    "# if len(arr) <= 1:\n",
    "# return arr\n",
    "# pivot = arr[len(arr) // 2]\n",
    "# left = [x for x in arr if x < pivot]\n",
    "# middle = [x for x in arr if x == pivot]\n",
    "# right = [x for x in arr if x > pivot]\n",
    "# return quicksort(left) + middle + quicksort(right)\n",
    "\n",
    "# Time Complexity Analysis\n",
    "# Best and average case:o(nlogn)\n",
    "# worst case:o(n)**2\n",
    "\n",
    "    \n"
   ]
  },
  {
   "cell_type": "code",
   "execution_count": 2,
   "id": "accc3967",
   "metadata": {},
   "outputs": [],
   "source": [
    "# Problem 2 :\n",
    "# def nested_loop_example(matrix):\n",
    "# rows, cols = len(matrix), len(matrix[0])\n",
    "# total = 0\n",
    "# for i in range(rows):\n",
    "# for j in range(cols):\n",
    "# total += matrix[i][j]\n",
    "# return total\n",
    "\n",
    "# Time Complexity Analysis:o(n)"
   ]
  },
  {
   "cell_type": "code",
   "execution_count": 3,
   "id": "d62de7da",
   "metadata": {},
   "outputs": [],
   "source": [
    "# Problem 3 :\n",
    "# def example_function(arr):\n",
    "# result = 0\n",
    "# for element in arr:\n",
    "# result += element\n",
    "# return result\n",
    "\n",
    "# Time Complexity Analysis:o(n)"
   ]
  },
  {
   "cell_type": "code",
   "execution_count": 4,
   "id": "eab24a78",
   "metadata": {},
   "outputs": [],
   "source": [
    "# Problem 4 :\n",
    "# def longest_increasing_subsequence(nums):\n",
    "# n = len(nums)\n",
    "# lis = [1] * n\n",
    "# for i in range(1, n):\n",
    "# for j in range(0, i):\n",
    "# if nums[i] > nums[j] and lis[i] < lis[j] + 1:\n",
    "# lis[i] = lis[j] + 1\n",
    "# return max(lis)\n",
    "\n",
    "# Time Complexity Analysis:o(n)**2\n"
   ]
  },
  {
   "cell_type": "code",
   "execution_count": 5,
   "id": "c50dcac7",
   "metadata": {},
   "outputs": [],
   "source": [
    "# Problem 5 :\n",
    "# def mysterious_function(arr):\n",
    "# n = len(arr)\n",
    "# result = 0\n",
    "# for i in range(n):\n",
    "# for j in range(i, n):\n",
    "# result += arr[i] * arr[j]\n",
    "# return result\n",
    "\n",
    "# Time Complexity Analysis:o(n)**2"
   ]
  },
  {
   "cell_type": "code",
   "execution_count": 6,
   "id": "504628c4",
   "metadata": {},
   "outputs": [
    {
     "name": "stdout",
     "output_type": "stream",
     "text": [
      "6\n"
     ]
    }
   ],
   "source": [
    "# Problem 6 : Sum of Digits\n",
    "# Write a recursive function to calculate the sum of digits of a given positive integer.\n",
    "# sum_of_digits(123) -> 6\n",
    "\n",
    "def sum_of_digits(n):\n",
    "    \n",
    "    if n == 0:\n",
    "        return 0\n",
    "    \n",
    "    return n % 10 + sum_of_digits(n // 10)\n",
    "\n",
    "\n",
    "print(sum_of_digits(123))  \n"
   ]
  },
  {
   "cell_type": "code",
   "execution_count": 7,
   "id": "af8e0f2c",
   "metadata": {},
   "outputs": [
    {
     "name": "stdout",
     "output_type": "stream",
     "text": [
      "[0, 1, 1, 2, 3, 5]\n"
     ]
    }
   ],
   "source": [
    "# Problem 7: Fibonacci Series\n",
    "# Write a recursive function to generate the first n numbers of the Fibonacci series.\n",
    "# fibonacci_series(6) -> [0, 1, 1, 2, 3, 5]\n",
    "\n",
    "def fibonacci_series(n):\n",
    "   \n",
    "    def fibonacci(n):\n",
    "        if n <= 1:\n",
    "            return n\n",
    "        return fibonacci(n - 1) + fibonacci(n - 2)\n",
    "    \n",
    "    \n",
    "    return [fibonacci(i) for i in range(n)]\n",
    "\n",
    "\n",
    "print(fibonacci_series(6))  \n"
   ]
  },
  {
   "cell_type": "code",
   "execution_count": 8,
   "id": "5d6f7a4b",
   "metadata": {},
   "outputs": [
    {
     "name": "stdout",
     "output_type": "stream",
     "text": [
      "True\n"
     ]
    }
   ],
   "source": [
    "# Problem 8 : Subset Sum\n",
    "# Given a set of positive integers and a target sum, write a recursive function to determine if there exists a subset\n",
    "# of the integers that adds up to the target sum.\n",
    "# subset_sum([3, 34, 4, 12, 5, 2], 9) -> True\n",
    "\n",
    "def subset_sum(arr, target):\n",
    " \n",
    "    if target == 0:\n",
    "        return True\n",
    "\n",
    "    if not arr:\n",
    "        return False\n",
    " \n",
    "    if subset_sum(arr[:-1], target):\n",
    "        return True\n",
    "\n",
    "    if target >= arr[-1] and subset_sum(arr[:-1], target - arr[-1]):\n",
    "        return True\n",
    "    return False\n",
    "\n",
    "\n",
    "print(subset_sum([3, 34, 4, 12, 5, 2], 9))  \n"
   ]
  },
  {
   "cell_type": "code",
   "execution_count": 9,
   "id": "24e97683",
   "metadata": {},
   "outputs": [
    {
     "name": "stdout",
     "output_type": "stream",
     "text": [
      "True\n"
     ]
    }
   ],
   "source": [
    "# Problem 9: Word Break\n",
    "# Given a non-empty string and a dictionary of words, write a recursive function to determine if the string can be\n",
    "# segmented into a space-separated sequence of dictionary words.\n",
    "# word_break( leetcode , [ leet , code ]) -> True\n",
    "\n",
    "def word_break(s, word_dict):\n",
    "    \n",
    "    if not s:\n",
    "        return True\n",
    "   \n",
    "    for i in range(1, len(s) + 1):\n",
    "        prefix = s[:i]\n",
    "      \n",
    "        if prefix in word_dict and word_break(s[i:], word_dict):\n",
    "            return True\n",
    "    return False\n",
    "\n",
    "\n",
    "print(word_break(\"leetcode\", {\"leet\", \"code\"}))  \n"
   ]
  },
  {
   "cell_type": "code",
   "execution_count": 10,
   "id": "c3cca9ea",
   "metadata": {},
   "outputs": [
    {
     "name": "stdout",
     "output_type": "stream",
     "text": [
      "[['..Q.', 'Q...', '...Q', '.Q..'], ['.Q..', '...Q', 'Q...', '..Q.']]\n"
     ]
    }
   ],
   "source": [
    "# Problem 10 : N-Queens\n",
    "# Implement a recursive function to solve the N Queens problem, where you have to place N queens on an N×N\n",
    "# chessboard in such a way that no two queens threaten each other.\n",
    "# n_queens(4)\n",
    "# [\n",
    "# [\".Q..\",\n",
    "# \"...Q\",\n",
    "# \"Q...\",\n",
    "# \"..Q.\"],\n",
    "# [\"..Q.\",\n",
    "# \"Q...\",\n",
    "# \"...Q\",\n",
    "# \".Q..\"]\n",
    "# ]\n",
    "\n",
    "def n_queens(n):\n",
    "    def is_safe(board, row, col):\n",
    "        for i in range(col):\n",
    "            if board[row][i] == \"Q\":\n",
    "                return False\n",
    "        for i, j in zip(range(row, -1, -1), range(col, -1, -1)):\n",
    "            if board[i][j] == \"Q\":\n",
    "                return False\n",
    "        for i, j in zip(range(row, n, 1), range(col, -1, -1)):\n",
    "            if board[i][j] == \"Q\":\n",
    "                return False\n",
    "        return True\n",
    "\n",
    "    def solve(board, col):\n",
    "        if col >= n:\n",
    "            result.append([\"\".join(row) for row in board])\n",
    "            return\n",
    "        for i in range(n):\n",
    "            if is_safe(board, i, col):\n",
    "                board[i][col] = \"Q\"\n",
    "                solve(board, col + 1)\n",
    "                board[i][col] = \".\"\n",
    "    \n",
    "    result = []\n",
    "    solve([[\".\"] * n for _ in range(n)], 0)\n",
    "    return result\n",
    "\n",
    "\n",
    "print(n_queens(4))\n"
   ]
  },
  {
   "cell_type": "code",
   "execution_count": null,
   "id": "e8f77bd4",
   "metadata": {},
   "outputs": [],
   "source": []
  }
 ],
 "metadata": {
  "kernelspec": {
   "display_name": "Python 3 (ipykernel)",
   "language": "python",
   "name": "python3"
  },
  "language_info": {
   "codemirror_mode": {
    "name": "ipython",
    "version": 3
   },
   "file_extension": ".py",
   "mimetype": "text/x-python",
   "name": "python",
   "nbconvert_exporter": "python",
   "pygments_lexer": "ipython3",
   "version": "3.11.5"
  }
 },
 "nbformat": 4,
 "nbformat_minor": 5
}
